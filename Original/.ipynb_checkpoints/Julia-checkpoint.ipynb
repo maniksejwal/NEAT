{
 "cells": [
  {
   "cell_type": "raw",
   "metadata": {},
   "source": [
    "This is the Jupyter notebook for NEAT in Julia"
   ]
  },
  {
   "cell_type": "code",
   "execution_count": 13,
   "metadata": {},
   "outputs": [
    {
     "data": {
      "text/plain": [
       "load_neat_params (generic function with 1 method)"
      ]
     },
     "execution_count": 13,
     "metadata": {},
     "output_type": "execute_result"
    }
   ],
   "source": [
    "function load_neat_params()\n",
    "   # read a file or hardcode. do whatever is required\n",
    "end"
   ]
  },
  {
   "cell_type": "code",
   "execution_count": 30,
   "metadata": {},
   "outputs": [
    {
     "ename": "ErrorException",
     "evalue": "syntax: \"100\" is not a valid function argument name",
     "output_type": "error",
     "traceback": [
      "syntax: \"100\" is not a valid function argument name",
      ""
     ]
    }
   ],
   "source": [
    "function pole1_test(gens)\n",
    "end\n",
    "\n",
    "function pole2_test(100, 1)   \n",
    "end\n",
    "\n",
    "function pole2_test(100, 0)\n",
    "end\n",
    "\n",
    "function xor_test(100)\n",
    "end"
   ]
  },
  {
   "cell_type": "code",
   "execution_count": 28,
   "metadata": {},
   "outputs": [
    {
     "data": {
      "text/plain": [
       "decide (generic function with 1 method)"
      ]
     },
     "execution_count": 28,
     "metadata": {},
     "output_type": "execute_result"
    }
   ],
   "source": [
    "# equivalent to neatmain.cpp\n",
    "function decide()\n",
    "    print(\"Please choose an experiment:\\n\" \n",
    "    + \"1 - 1-pole balancing\\n\"\n",
    "    + \"2 - 2-pole balancing, velocity info provided\\n\"\n",
    "    + \"3 - 2-pole balancing, no velocity info provided (non-markov)\\n\"\n",
    "    + \"4 - XOR\\n\"\n",
    "    + \"Number: \\n\")\n",
    "    choice = readline(STDIN)\n",
    "    if choice == 1 \n",
    "        p = pole1_test(100)\n",
    "    elseif choice == 2\n",
    "        p = pole2_test(100, 1)   \n",
    "    elseif choice == 3\n",
    "        p = pole2_test(100, 0)\n",
    "    elseif choice == 4\n",
    "        p = xor_test(100)\n",
    "    else\n",
    "        println(\"Not an available option.\")\n",
    "    end\n",
    "end"
   ]
  },
  {
   "cell_type": "code",
   "execution_count": 29,
   "metadata": {},
   "outputs": [
    {
     "ename": "MethodError",
     "evalue": "MethodError: no method matching +(::String, ::String)\nClosest candidates are:\n  +(::Any, ::Any, !Matched::Any, !Matched::Any...) at operators.jl:502",
     "output_type": "error",
     "traceback": [
      "MethodError: no method matching +(::String, ::String)\nClosest candidates are:\n  +(::Any, ::Any, !Matched::Any, !Matched::Any...) at operators.jl:502",
      "",
      "Stacktrace:",
      " [1] +(::String, ::String, ::String, ::String, ::String, ::String) at ./operators.jl:502",
      " [2] decide() at ./In[28]:2",
      " [3] top-level scope at In[29]:3"
     ]
    }
   ],
   "source": [
    "# this is the equivalent to the main function\n",
    "load_neat_params()\n",
    "decide()"
   ]
  },
  {
   "cell_type": "code",
   "execution_count": null,
   "metadata": {},
   "outputs": [],
   "source": []
  }
 ],
 "metadata": {
  "kernelspec": {
   "display_name": "Julia 1.0.0",
   "language": "julia",
   "name": "julia-1.0"
  },
  "language_info": {
   "file_extension": ".jl",
   "mimetype": "application/julia",
   "name": "julia",
   "version": "1.0.0"
  }
 },
 "nbformat": 4,
 "nbformat_minor": 2
}
