{
 "cells": [
  {
   "cell_type": "code",
   "execution_count": null,
   "metadata": {},
   "outputs": [],
   "source": [
    "using NBInclude\n",
    "@nbinclude(\"neat.ipynb\")"
   ]
  },
  {
   "cell_type": "code",
   "execution_count": 4,
   "metadata": {},
   "outputs": [
    {
     "data": {
      "text/plain": [
       "0"
      ]
     },
     "execution_count": 4,
     "metadata": {},
     "output_type": "execute_result"
    }
   ],
   "source": [
    "num_runs = 0\n",
    "pop_size = 0\n",
    "num_trait_params = 0"
   ]
  },
  {
   "cell_type": "code",
   "execution_count": null,
   "metadata": {},
   "outputs": [],
   "source": [
    "function display_params()\n",
    "    println(\"trait_param_mut_prob=\",trait_param_mut_prob)\n",
    "    println(\"trait_mutation_power=\",trait_mutation_power)\n",
    "    println(\"linktrait_mut_sig=\",linktrait_mut_sig)\n",
    "    println(\"nodetrait_mut_sig=\",nodetrait_mut_sig)\n",
    "    println(\"weight_mut_power=\",weight_mut_power)\n",
    "    println(\"recur_prob=\",recur_prob)\n",
    "    println(\"disjoint_coeff=\",disjoint_coeff)\n",
    "    println(\"excess_coeff=\",excess_coeff)\n",
    "    println(\"mutdiff_coeff=\",mutdiff_coeff)\n",
    "    println(\"compat_threshold=\",compat_threshold)\n",
    "    println(\"age_significance=\",age_significance)\n",
    "    println(\"survival_thresh=\",survival_thresh)\n",
    "    println(\"mutate_only_prob=\",mutate_only_prob)\n",
    "    println(\"mutate_random_trait_prob=\",mutate_random_trait_prob)\n",
    "    println(\"mutate_link_trait_prob=\",mutate_link_trait_prob)\n",
    "    println(\"mutate_node_trait_prob=\",mutate_node_trait_prob)\n",
    "    println(\"mutate_link_weights_prob=\",mutate_link_weights_prob)\n",
    "    println(\"mutate_toggle_enable_prob=\",mutate_toggle_enable_prob)\n",
    "    println(\"mutate_gene_reenable_prob=\",mutate_gene_reenable_prob)\n",
    "    println(\"mutate_add_node_prob=\",mutate_add_node_prob)\n",
    "    println(\"mutate_add_link_prob=\",mutate_add_link_prob)\n",
    "    println(\"interspecies_mate_rate=\",interspecies_mate_rate)\n",
    "    println(\"mate_multipoint_prob=\",mate_multipoint_prob)\n",
    "    println(\"mate_multipoint_avg_prob=\",mate_multipoint_avg_prob)\n",
    "    println(\"mate_singlepoint_prob=\",mate_singlepoint_prob)\n",
    "    println(\"mate_only_prob=\",mate_only_prob)\n",
    "    println(\"recur_only_prob=\",recur_only_prob)\n",
    "    println(\"pop_size=\",pop_size)\n",
    "    println(\"dropoff_age=\",dropoff_age)\n",
    "    println(\"newlink_tries=\",newlink_tries)\n",
    "    println(\"print_every=\",print_every)\n",
    "    println(\"babies_stolen=\",babies_stolen)\n",
    "    println(\"num_runs=\",num_runs)\n",
    "end"
   ]
  },
  {
   "cell_type": "code",
   "execution_count": null,
   "metadata": {},
   "outputs": [],
   "source": [
    "#=TODO: change scope of all the variables from local to global=#\n",
    "\n",
    "function load_neat_params(filename,output)\n",
    "    #try\n",
    "    open(filename)                                          # It should be better to throw an error\n",
    "    #catch  \n",
    "    #    return false\n",
    "    #end\n",
    "    \n",
    "    paramFile = open(filename)\n",
    "    param = read(paramFile,String)\n",
    "    param_val=split(param)\n",
    "    \n",
    "    if output \n",
    "        println(\"NEAT READING IN $filename\")\n",
    "    end\n",
    "    \n",
    "    trait_param_mut_prob = parse(Float32,param_val[2])\n",
    "    trait_mutation_power = parse(Float32,param_val[4])\n",
    "    linktrait_mut_sig = parse(Float32,param_val[6])\n",
    "    nodetrait_mut_sig = parse(Float32,param_val[8])\n",
    "    weight_mut_power = parse(Float32,param_val[10])\n",
    "    recur_prob = parse(Float32,param_val[12])\n",
    "    disjoint_coeff = parse(Float32,param_val[14])\n",
    "    excess_coeff = parse(Float32,param_val[16])\n",
    "    mutdiff_coeff = parse(Float32,param_val[18])\n",
    "    compat_threshold = parse(Float32,param_val[20])\n",
    "    age_significance = parse(Float32,param_val[22])\n",
    "    survival_thresh = parse(Float32,param_val[24])\n",
    "    mutate_only_prob = parse(Float32,param_val[26])\n",
    "    mutate_random_trait_prob = parse(Float32,param_val[28])\n",
    "    mutate_link_trait_prob = parse(Float32,param_val[30])\n",
    "    mutate_node_trait_prob = parse(Float32,param_val[32])\n",
    "    mutate_link_weights_prob = parse(Float32,param_val[34])\n",
    "    mutate_toggle_enable_prob = parse(Float32,param_val[36])\n",
    "    mutate_gene_reenable_prob = parse(Float32,param_val[38])\n",
    "    mutate_add_node_prob = parse(Float32,param_val[40])\n",
    "    mutate_add_link_prob = parse(Float32,param_val[42])\n",
    "    interspecies_mate_rate = parse(Float32,param_val[44])\n",
    "    mate_multipoint_prob = parse(Float32,param_val[46])\n",
    "    mate_multipoint_avg_prob = parse(Float32,param_val[48])\n",
    "    mate_singlepoint_prob = parse(Float32,param_val[50])\n",
    "    mate_only_prob = parse(Float32,param_val[52])\n",
    "    recur_only_prob = parse(Float32,param_val[54])\n",
    "    pop_size = parse(Int32,param_val[56])\n",
    "    dropoff_age = parse(Int32,param_val[58])\n",
    "    newlink_tries = parse(Int32,param_val[60])\n",
    "    print_every = parse(Int32,param_val[62])\n",
    "    babies_stolen = parse(Int32,param_val[64])\n",
    "    num_runs = parse(Int32,param_val[66])\n",
    "    \n",
    "    displayparams()\n",
    "    \n",
    "    close(paramFile);\n",
    "    return true;\n",
    "end    "
   ]
  }
 ],
 "metadata": {
  "kernelspec": {
   "display_name": "Julia 1.0.0",
   "language": "julia",
   "name": "julia-1.0"
  },
  "language_info": {
   "file_extension": ".jl",
   "mimetype": "application/julia",
   "name": "julia",
   "version": "1.0.0"
  }
 },
 "nbformat": 4,
 "nbformat_minor": 2
}
