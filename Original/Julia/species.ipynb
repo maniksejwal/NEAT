{
 "cells": [
  {
   "cell_type": "code",
   "execution_count": null,
   "metadata": {},
   "outputs": [],
   "source": [
    "using NBInclude\n",
    "@nbinclude(\"organism.ipynb\")"
   ]
  },
  {
   "cell_type": "code",
   "execution_count": null,
   "metadata": {},
   "outputs": [],
   "source": [
    "mutable struct Species \n",
    "    id::Int32\n",
    "    age::Int32\n",
    "    ave_fitness::Float64\n",
    "    max_fitness::Float64\n",
    "    max_fitness_ever::Float64\n",
    "    expected_offspring::Int32\n",
    "    novel::Bool\n",
    "    checked::Bool\n",
    "    obliterate::Bool\n",
    "    organisms = Organism[]\n",
    "    reproduction_pool = Organism[]\n",
    "    age_of_last_improvement::int32\n",
    "    average_est::Float64\n",
    "end"
   ]
  }
 ],
 "metadata": {
  "kernelspec": {
   "display_name": "Julia 1.0.0",
   "language": "julia",
   "name": "julia-1.0"
  },
  "language_info": {
   "file_extension": ".jl",
   "mimetype": "application/julia",
   "name": "julia",
   "version": "1.0.0"
  }
 },
 "nbformat": 4,
 "nbformat_minor": 2
}
