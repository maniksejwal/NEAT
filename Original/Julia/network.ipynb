{
 "cells": [
  {
   "cell_type": "code",
   "execution_count": null,
   "metadata": {},
   "outputs": [],
   "source": [
    "using NBInclude\n",
    "@nbinclude(\"genome.ipynb\")\n",
    "@nbinclude(\"nnode.ipynb\")"
   ]
  },
  {
   "cell_type": "code",
   "execution_count": null,
   "metadata": {},
   "outputs": [],
   "source": [
    "mutable struct Network\n",
    "    numnodes::Int32\n",
    "    numlinks::Int32\n",
    "    all_nodes = NNode[]\n",
    "    genotype::Genome\n",
    "    inputs = NNode[]\n",
    "    outputs = NNode[]\n",
    "    net_id::Int32\n",
    "    maxweight::Float32\n",
    "    adaptable::Bool\n",
    "end"
   ]
  }
 ],
 "metadata": {
  "kernelspec": {
   "display_name": "Julia 1.0.0",
   "language": "julia",
   "name": "julia-1.0"
  },
  "language_info": {
   "file_extension": ".jl",
   "mimetype": "application/julia",
   "name": "julia",
   "version": "1.0.0"
  }
 },
 "nbformat": 4,
 "nbformat_minor": 2
}
