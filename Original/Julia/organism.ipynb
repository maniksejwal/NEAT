{
 "cells": [
  {
   "cell_type": "code",
   "execution_count": null,
   "metadata": {},
   "outputs": [],
   "source": [
    "using NBInclude\n",
    "@nbinclude(\"network.ipynb\")\n",
    "@nbinclude(\"genome.ipynb\")\n",
    "@nbinclude(\"species.ipynb\")"
   ]
  },
  {
   "cell_type": "code",
   "execution_count": null,
   "metadata": {},
   "outputs": [],
   "source": [
    "mutable struct Organism\n",
    "    fitness::Float64\n",
    "    orig_fitness::Float64\n",
    "    error::Float64\n",
    "    winner::Bool\n",
    "    net = Network[]\n",
    "    gnome = Genome[]\n",
    "    species = Species[]\n",
    "    expected_offspring::Float64\n",
    "    generation::Int32\n",
    "    eliminate::Bool\n",
    "    champion::Bool\n",
    "    super_champ_offspring::Int32\n",
    "    pop_champ::Bool\n",
    "    pop_champ_child::Bool\n",
    "    high_fit::Float64\n",
    "    time_alive::Int32\n",
    "\n",
    "    mut_struct_baby::Bool\n",
    "    mate_baby::Bool\n",
    "\n",
    "    metadata = \"\"\n",
    "    modified::Bool\n",
    "end"
   ]
  }
 ],
 "metadata": {
  "kernelspec": {
   "display_name": "Julia 1.0.0",
   "language": "julia",
   "name": "julia-1.0"
  },
  "language_info": {
   "file_extension": ".jl",
   "mimetype": "application/julia",
   "name": "julia",
   "version": "1.0.0"
  }
 },
 "nbformat": 4,
 "nbformat_minor": 2
}
