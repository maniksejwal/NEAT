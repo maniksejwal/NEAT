{
 "cells": [
  {
   "cell_type": "raw",
   "metadata": {},
   "source": [
    "this file contains code for the experiments"
   ]
  },
  {
   "cell_type": "raw",
   "metadata": {},
   "source": [
    "TODO - fill up these functions. write each one of them in a different cell for ease"
   ]
  },
  {
   "cell_type": "code",
   "execution_count": 4,
   "metadata": {},
   "outputs": [
    {
     "data": {
      "text/plain": [
       "0"
      ]
     },
     "execution_count": 4,
     "metadata": {},
     "output_type": "execute_result"
    }
   ],
   "source": [
    "using NBInclude\n",
    "@nbinclude(\"neat.ipynb\")\n",
    "@nbinclude(\"genome.ipynb\")\n",
    "@nbinclude(\"population.ipynb\")"
   ]
  },
  {
   "cell_type": "code",
   "execution_count": 2,
   "metadata": {},
   "outputs": [
    {
     "data": {
      "text/plain": [
       "pole1_test (generic function with 1 method)"
      ]
     },
     "execution_count": 2,
     "metadata": {},
     "output_type": "execute_result"
    }
   ],
   "source": [
    "function pole1_test(gens)\n",
    "    runs = zeros[num_runs]\n",
    "    println(\"START SINGLE POLE BALANCING EVOLUTION\\n\" \n",
    "            + \"Reading in the start genome\")    \n",
    "    open(\"pole1startgenes \") do iFile                                  # read params from file. check the location of the file incase of a failure\n",
    "        lines=eachline(iFile)\n",
    "        for line in lines\n",
    "            for i in enumerate(split(line, ' '))\n",
    "                id = i[2]\n",
    "            end\n",
    "        end\n",
    "        println(\"Reading in Genome id \" + id)\n",
    "        start_genome = Genome(id, iFile)\n",
    "    end\n",
    "\n",
    "    #Run multiple experiments\n",
    "    for expcount in 1:num_runs\n",
    "        print(\"EXPERIMENT #\" + expcount \n",
    "            + \"\\nStart Genome: \" + start_genome \n",
    "            + \"\\nSpawning Population off Genome\\n\")\n",
    "        \n",
    "        pop = Population(start_genome, pop_size)                   # spawn the population\n",
    "        print(\"Verifying Spawned Pop\\n\")\n",
    "        pop.verify()                                               # TODO this is from c++\n",
    "\n",
    "        #!! This block might not work\n",
    "        for gen in 1:gens\n",
    "            print(\"Generation \" + gen + \"\\n\"\n",
    "                + \"name of fname: gen_\" + gen +\"\\n\")\n",
    "\n",
    "            sprintf(temp, \"gen_%d\", gen)                           # TODO this is from c++\n",
    "\n",
    "            status = pole1_epoch(pop, gen, temp)\n",
    "\n",
    "            if (status) \n",
    "                runs[expcount] = status\n",
    "                gen = gens + 1\n",
    "            end\n",
    "        end\n",
    "        # if (expcount < NEAT::num_runs - 1) delete pop;\n",
    "    end\n",
    "\n",
    "    totalevals = 0\n",
    "    samples = 0\n",
    "    for expcount in 1:num_runs\n",
    "        print(runs[expcount] + \"\\n\")\n",
    "        if (runs[expcount] > 0) \n",
    "            totalevals += runs[expcount]\n",
    "            samples += 1\n",
    "        end\n",
    "    end\n",
    "    \n",
    "    print(\"Failures: \" + (num_runs - samples) + \" out of \" + num_runs + \" runs\\n\" \n",
    "        + \"Average evals: \" + (samples > 0 ? totalevals / samples : 0) + \"\\n\")       # This might need type casting\n",
    "    return pop;\n",
    "end"
   ]
  },
  {
   "cell_type": "code",
   "execution_count": null,
   "metadata": {},
   "outputs": [],
   "source": [
    "function pole1_epoch(pop::Population, generation::Int32, filename::Char) \n",
    "    curspecies = Species[]\n",
    "    cfilename = Char[]\n",
    "    sizehint!(cfilename, 100)\n",
    "    \n",
    "    win = false\n",
    "    winnernum::Int32\n",
    "\n",
    "    # Evaluate each organism on a test\n",
    "    for curorg in pop.organisms                       # TODO fix\n",
    "        if (pole1_evaluate(curorg)) \n",
    "            win = true\n",
    "        end\n",
    "    end\n",
    "\n",
    "    #Average and max their fitnesses for dumping to file and snapshot\n",
    "    for curspecies in pop.species\n",
    "        compute_average_fitness(curspecies)                 # curspecies.compute_average_fitness()\n",
    "        compute_max_fitness(curspecies)                     # curspecies.compute_max_fitness()\n",
    "    end\n",
    "\n",
    "    #Only print to file every print_every generations\n",
    "    if (win || ((generation % print_every) == 0))\n",
    "        print_to_file_by_species(pop, filename)             # pop.print_to_file_by_species()\n",
    "    end\n",
    "\n",
    "    if (win) \n",
    "        for curorg in pop.organisms\n",
    "            if (curorg.winner)\n",
    "                winnernum = (curorg.gnome).genome_id\n",
    "                println(\"WINNER IS #\" + curorg.gnome.genome_id);\n",
    "            end\n",
    "        end\n",
    "    end\n",
    "\n",
    "    epoch(pop, generation)                                  # pop->epoch(generation)\n",
    "\n",
    "    if (win) return ((generation - 1) * pop_size + winnernum)\n",
    "    else return 0;\n",
    "}"
   ]
  },
  {
   "cell_type": "code",
   "execution_count": 2,
   "metadata": {},
   "outputs": [
    {
     "ename": "ErrorException",
     "evalue": "syntax: \"100\" is not a valid function argument name",
     "output_type": "error",
     "traceback": [
      "syntax: \"100\" is not a valid function argument name",
      ""
     ]
    }
   ],
   "source": [
    "# int, bool\n",
    "function pole2_test(gensm, velocity)   \n",
    "end"
   ]
  },
  {
   "cell_type": "code",
   "execution_count": 4,
   "metadata": {},
   "outputs": [
    {
     "ename": "ErrorException",
     "evalue": "syntax: \"100\" is not a valid function argument name",
     "output_type": "error",
     "traceback": [
      "syntax: \"100\" is not a valid function argument name",
      ""
     ]
    }
   ],
   "source": [
    "function xor_test(org)\n",
    "end"
   ]
  }
 ],
 "metadata": {
  "kernelspec": {
   "display_name": "Julia 1.0.0",
   "language": "julia",
   "name": "julia-1.0"
  },
  "language_info": {
   "file_extension": ".jl",
   "mimetype": "application/julia",
   "name": "julia",
   "version": "1.0.0"
  }
 },
 "nbformat": 4,
 "nbformat_minor": 2
}
