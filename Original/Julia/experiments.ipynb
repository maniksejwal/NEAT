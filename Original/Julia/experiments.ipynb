{
 "cells": [
  {
   "cell_type": "raw",
   "metadata": {},
   "source": [
    "this file contains code for the experiments"
   ]
  },
  {
   "cell_type": "raw",
   "metadata": {},
   "source": [
    "TODO - fill up these functions. write each one of them in a different cell for ease"
   ]
  },
  {
   "cell_type": "code",
   "execution_count": 4,
   "metadata": {},
   "outputs": [
    {
     "data": {
      "text/plain": [
       "0"
      ]
     },
     "execution_count": 4,
     "metadata": {},
     "output_type": "execute_result"
    }
   ],
   "source": [
    "using NBInclude\n",
    "@nbinclude(\"neat.ipynb\")\n",
    "@nbinclude(\"genome.ipynb\")"
   ]
  },
  {
   "cell_type": "code",
   "execution_count": 2,
   "metadata": {},
   "outputs": [
    {
     "ename": "LoadError",
     "evalue": "syntax: extra token \"Genome\" after end of expression",
     "output_type": "error",
     "traceback": [
      "syntax: extra token \"Genome\" after end of expression",
      ""
     ]
    }
   ],
   "source": [
    "function pole1_test(gens)\n",
    "    runs = zeros[num_runs]\n",
    "    print(\"START SINGLE POLE BALANCING EVOLUTION\\n\" \n",
    "            + \"Reading in the start genome\\n\")    \n",
    "    open(\"pole1startgenes\") do iFile                                  # read params from file\n",
    "        lines = readlines(iFile)\n",
    "        counter = 1\n",
    "        for i in enumerate(eachline(f))\n",
    "            curword = i[1]\n",
    "            id = i[2]\n",
    "        end\n",
    "    print(\"Reading in Genome id \" + id + \"\\n\")\n",
    "    start_genome = Genome(id, iFile)\n",
    "    end\n",
    "\n",
    "    #Run multiple experiments\n",
    "    for expcount in 1:num_runs\n",
    "        print(\"EXPERIMENT #\" + expcount \n",
    "            + \"\\nStart Genome: \" + start_genome \n",
    "            + \"\\nSpawning Population off Genome\\n\")\n",
    "        \n",
    "        pop = new Population(start_genome, pop_size)                   # spawn the population\n",
    "        cout << \"Verifying Spawned Pop\" << endl;\n",
    "        pop->verify();\n",
    "\n",
    "        for (gen = 1; gen <= gens; gen++) {\n",
    "            cout << \"Generation \" << gen << endl;\n",
    "\n",
    "            fnamebuf = new ostringstream();\n",
    "            (*fnamebuf) << \"gen_\" << gen << ends;  //needs end marker\n",
    "\n",
    "#ifndef NO_SCREEN_OUT\n",
    "            cout << \"name of fname: \" << fnamebuf->str() << endl;\n",
    "#endif\n",
    "\n",
    "            char temp[50];\n",
    "            sprintf(temp, \"gen_%d\", gen);\n",
    "\n",
    "            status = pole1_epoch(pop, gen, temp);\n",
    "            //status=(pole1_epoch(pop,gen,fnamebuf->str()));\n",
    "\n",
    "            if (status) {\n",
    "                runs[expcount] = status;\n",
    "                gen = gens + 1;\n",
    "            }\n",
    "\n",
    "            fnamebuf->clear();\n",
    "            delete fnamebuf;\n",
    "\n",
    "        end\n",
    "\n",
    "        if (expcount < NEAT::num_runs - 1) delete pop;\n",
    "    end\n",
    "\n",
    "    totalevals = 0;\n",
    "    samples = 0;\n",
    "    for (expcount = 0; expcount < NEAT::num_runs; expcount++) {\n",
    "        cout << runs[expcount] << endl;\n",
    "        if (runs[expcount] > 0) {\n",
    "            totalevals += runs[expcount];\n",
    "            samples++;\n",
    "        }\n",
    "    }\n",
    "\n",
    "    cout << \"Failures: \" << (NEAT::num_runs - samples) << \" out of \" << NEAT::num_runs << \" runs\" << endl;\n",
    "    cout << \"Average evals: \" << (samples > 0 ? (double) totalevals / samples : 0) << endl;\n",
    "\n",
    "    close(iFile)\n",
    "    return pop;\n",
    "\n",
    "end"
   ]
  },
  {
   "cell_type": "code",
   "execution_count": 2,
   "metadata": {},
   "outputs": [
    {
     "ename": "ErrorException",
     "evalue": "syntax: \"100\" is not a valid function argument name",
     "output_type": "error",
     "traceback": [
      "syntax: \"100\" is not a valid function argument name",
      ""
     ]
    }
   ],
   "source": [
    "# int, bool\n",
    "function pole2_test(gensm, velocity)   \n",
    "end"
   ]
  },
  {
   "cell_type": "code",
   "execution_count": 4,
   "metadata": {},
   "outputs": [
    {
     "ename": "ErrorException",
     "evalue": "syntax: \"100\" is not a valid function argument name",
     "output_type": "error",
     "traceback": [
      "syntax: \"100\" is not a valid function argument name",
      ""
     ]
    }
   ],
   "source": [
    "function xor_test(org)\n",
    "end"
   ]
  }
 ],
 "metadata": {
  "kernelspec": {
   "display_name": "Julia 1.0.0",
   "language": "julia",
   "name": "julia-1.0"
  },
  "language_info": {
   "file_extension": ".jl",
   "mimetype": "application/julia",
   "name": "julia",
   "version": "1.0.0"
  }
 },
 "nbformat": 4,
 "nbformat_minor": 2
}
