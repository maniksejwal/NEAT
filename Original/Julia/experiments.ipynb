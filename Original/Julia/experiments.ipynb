{
 "cells": [
  {
   "cell_type": "raw",
   "metadata": {},
   "source": [
    "this file contains code for the experiments"
   ]
  },
  {
   "cell_type": "raw",
   "metadata": {},
   "source": [
    "TODO - fill up these functions. write each one of them in a different cell for ease"
   ]
  },
  {
   "cell_type": "code",
   "execution_count": 1,
   "metadata": {},
   "outputs": [
    {
     "data": {
      "text/plain": [
       "pole1_test (generic function with 1 method)"
      ]
     },
     "execution_count": 1,
     "metadata": {},
     "output_type": "execute_result"
    }
   ],
   "source": [
    "function pole1_test(gens)\n",
    "end"
   ]
  },
  {
   "cell_type": "code",
   "execution_count": 2,
   "metadata": {},
   "outputs": [
    {
     "ename": "ErrorException",
     "evalue": "syntax: \"100\" is not a valid function argument name",
     "output_type": "error",
     "traceback": [
      "syntax: \"100\" is not a valid function argument name",
      ""
     ]
    }
   ],
   "source": [
    "# int, bool\n",
    "function pole2_test(gens, velocity)   \n",
    "end"
   ]
  },
  {
   "cell_type": "code",
   "execution_count": 4,
   "metadata": {},
   "outputs": [
    {
     "ename": "ErrorException",
     "evalue": "syntax: \"100\" is not a valid function argument name",
     "output_type": "error",
     "traceback": [
      "syntax: \"100\" is not a valid function argument name",
      ""
     ]
    }
   ],
   "source": [
    "function xor_test(org)\n",
    "end"
   ]
  }
 ],
 "metadata": {
  "kernelspec": {
   "display_name": "Julia 1.0.0",
   "language": "julia",
   "name": "julia-1.0"
  },
  "language_info": {
   "file_extension": ".jl",
   "mimetype": "application/julia",
   "name": "julia",
   "version": "1.0.0"
  }
 },
 "nbformat": 4,
 "nbformat_minor": 2
}
