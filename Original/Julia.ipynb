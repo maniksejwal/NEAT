{
 "cells": [
  {
   "cell_type": "raw",
   "metadata": {},
   "source": [
    "This is the Jupyter notebook for NEAT in Julia\n",
    "It can probably be run on Pycharm too"
   ]
  },
  {
   "cell_type": "code",
   "execution_count": null,
   "metadata": {},
   "outputs": [],
   "source": []
  }
 ],
 "metadata": {
  "kernelspec": {
   "display_name": "Julia 1.0.0",
   "language": "julia",
   "name": "julia-1.0"
  },
  "language_info": {
   "file_extension": ".jl",
   "mimetype": "application/julia",
   "name": "julia",
   "version": "1.0.0"
  }
 },
 "nbformat": 4,
 "nbformat_minor": 2
}
